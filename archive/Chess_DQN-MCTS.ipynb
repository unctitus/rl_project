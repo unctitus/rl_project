{
 "cells": [
  {
   "cell_type": "code",
   "execution_count": 1,
   "metadata": {
    "colab": {
     "base_uri": "https://localhost:8080/"
    },
    "executionInfo": {
     "elapsed": 7945,
     "status": "ok",
     "timestamp": 1701551770259,
     "user": {
      "displayName": "Titus",
      "userId": "13794413314446836526"
     },
     "user_tz": 300
    },
    "id": "Ta16A_T1fzFg",
    "outputId": "642e700e-fe0d-4334-db1f-f235a890c020"
   },
   "outputs": [
    {
     "name": "stdout",
     "output_type": "stream",
     "text": [
      "Intel MKL WARNING: Support of Intel(R) Streaming SIMD Extensions 4.2 (Intel(R) SSE4.2) enabled only processors has been deprecated. Intel oneAPI Math Kernel Library 2025.0 will require Intel(R) Advanced Vector Extensions (Intel(R) AVX) instructions.\n",
      "Intel MKL WARNING: Support of Intel(R) Streaming SIMD Extensions 4.2 (Intel(R) SSE4.2) enabled only processors has been deprecated. Intel oneAPI Math Kernel Library 2025.0 will require Intel(R) Advanced Vector Extensions (Intel(R) AVX) instructions.\n"
     ]
    },
    {
     "name": "stderr",
     "output_type": "stream",
     "text": [
      "2023-12-04 10:26:11.215242: I tensorflow/core/platform/cpu_feature_guard.cc:182] This TensorFlow binary is optimized to use available CPU instructions in performance-critical operations.\n",
      "To enable the following instructions: SSE4.1 SSE4.2, in other operations, rebuild TensorFlow with the appropriate compiler flags.\n"
     ]
    },
    {
     "name": "stdout",
     "output_type": "stream",
     "text": [
      "WARNING:tensorflow:From /Users/titus/anaconda3/envs/tf/lib/python3.11/site-packages/tensorflow/python/compat/v2_compat.py:107: disable_resource_variables (from tensorflow.python.ops.variable_scope) is deprecated and will be removed in a future version.\n",
      "Instructions for updating:\n",
      "non-resource variables are not supported in the long term\n"
     ]
    }
   ],
   "source": [
    "from absl import logging\n",
    "import numpy as np\n",
    "import tensorflow.compat.v1 as tf\n",
    "\n",
    "from open_spiel.python import rl_environment\n",
    "from open_spiel.python.algorithms import dqn\n",
    "from open_spiel.python.algorithms import random_agent\n",
    "from open_spiel.python.algorithms import mcts\n",
    "from open_spiel.python.algorithms import mcts_agent\n",
    "from absl.testing import absltest"
   ]
  },
  {
   "cell_type": "code",
   "execution_count": 2,
   "metadata": {},
   "outputs": [
    {
     "name": "stdout",
     "output_type": "stream",
     "text": [
      "/Users/titus/anaconda3/envs/tf/lib/python3.11/site-packages/open_spiel/python/algorithms/dqn.py\n"
     ]
    }
   ],
   "source": [
    "print(dqn.__file__)"
   ]
  },
  {
   "cell_type": "code",
   "execution_count": 3,
   "metadata": {
    "executionInfo": {
     "elapsed": 165,
     "status": "ok",
     "timestamp": 1701551841664,
     "user": {
      "displayName": "Titus",
      "userId": "13794413314446836526"
     },
     "user_tz": 300
    },
    "id": "Lm5xaFzxgSw6"
   },
   "outputs": [],
   "source": [
    "# Training parameters\n",
    "#Directory to save/load the agent models.\n",
    "checkpoint_dir = \"/Users/titus/Desktop/ml/results3\"\n",
    "\n",
    "#Episode frequency at which the DQN agent models are saved\n",
    "save_every = int(1e4)\n",
    "\n",
    "#Number of training episodes.\n",
    "num_train_episodes = int(1e6)\n",
    "\n",
    "#Episode frequency at which the DQN agents are evaluated.\n",
    "eval_every = 1000\n",
    "\n",
    "\n",
    "# DQN model hyper-parameters\n",
    "\n",
    "#Number of hidden units in the Q-Network MLP\n",
    "hidden_layers_sizes = [64, 64]\n",
    "\n",
    "#Size of the replay buffer\n",
    "replay_buffer_capacity = int(1e5)\n",
    "\n",
    "#Number of transitions to sample at each learning step.                     )\n",
    "batch_size = 32"
   ]
  },
  {
   "cell_type": "code",
   "execution_count": 4,
   "metadata": {
    "executionInfo": {
     "elapsed": 158,
     "status": "ok",
     "timestamp": 1701551844291,
     "user": {
      "displayName": "Titus",
      "userId": "13794413314446836526"
     },
     "user_tz": 300
    },
    "id": "k64klwHugYyw"
   },
   "outputs": [],
   "source": [
    "def eval_against_random_bots(env, trained_agents, random_agents, num_episodes):\n",
    "  \"\"\"Evaluates `trained_agents` against `random_agents` for `num_episodes`.\"\"\"\n",
    "  num_players = len(trained_agents)\n",
    "  sum_episode_rewards = np.zeros(num_players)\n",
    "  for player_pos in range(num_players):\n",
    "    cur_agents = random_agents[:]\n",
    "    cur_agents[player_pos] = trained_agents[player_pos]\n",
    "    for _ in range(num_episodes):\n",
    "      time_step = env.reset()\n",
    "      episode_rewards = 0\n",
    "      while not time_step.last():\n",
    "        player_id = time_step.observations[\"current_player\"]\n",
    "        if env.is_turn_based:\n",
    "          agent_output = cur_agents[player_id].step(\n",
    "              time_step, is_evaluation=True)\n",
    "          action_list = [agent_output.action]\n",
    "        else:\n",
    "          agents_output = [\n",
    "              agent.step(time_step, is_evaluation=True) for agent in cur_agents\n",
    "          ]\n",
    "          action_list = [agent_output.action for agent_output in agents_output]\n",
    "        time_step = env.step(action_list)\n",
    "        episode_rewards += time_step.rewards[player_pos]\n",
    "      sum_episode_rewards[player_pos] += episode_rewards\n",
    "  return sum_episode_rewards / num_episodes"
   ]
  },
  {
   "cell_type": "code",
   "execution_count": 5,
   "metadata": {
    "colab": {
     "base_uri": "https://localhost:8080/"
    },
    "id": "rRQPDuDkfwyY",
    "outputId": "9275e8d2-8ab8-444f-c24e-a5d437bfb4b2"
   },
   "outputs": [
    {
     "name": "stdout",
     "output_type": "stream",
     "text": [
      "chess()\n",
      "Start Training...\n"
     ]
    }
   ],
   "source": [
    "game = \"chess\"\n",
    "num_players = 2\n",
    "env = rl_environment.Environment(game, include_full_state=True)\n",
    "info_state_size = env.observation_spec()[\"info_state\"][0]\n",
    "num_actions = env.action_spec()[\"num_actions\"]\n",
    "\n",
    "\n",
    "# random agents for evaluation\n",
    "random_agents = [\n",
    "    random_agent.RandomAgent(player_id=idx, num_actions=num_actions)\n",
    "    for idx in range(num_players)\n",
    "]\n",
    "\n",
    "with tf.Session() as sess:\n",
    " # hidden_layers_sizes = [int(l) for l in hidden_layers_sizes]\n",
    "  # pylint: disable=g-complex-comprehension\n",
    " # agents = [\n",
    "  #    dqn.DQN(\n",
    " #         session=sess,\n",
    " #         player_id=idx,\n",
    " #         state_representation_size=info_state_size,\n",
    " #         num_actions=num_actions,\n",
    "  #        hidden_layers_sizes=hidden_layers_sizes,\n",
    "  #        replay_buffer_capacity=replay_buffer_capacity,\n",
    "  #        batch_size=batch_size) for idx in range(num_players)\n",
    " # ]\n",
    "  #sess.run(tf.global_variables_initializer())\n",
    "  print(env.game)\n",
    "  mcts_bot = mcts.MCTSBot(env.game, 1.5, 10, mcts.RandomRolloutEvaluator())\n",
    "\n",
    "  agents = [\n",
    "        mcts_agent.MCTSAgent(player_id=idx, num_actions=num_actions,\n",
    "                             mcts_bot=mcts_bot)\n",
    "        for idx in range(num_players)\n",
    "    ]\n",
    "  result = []\n",
    "  print(\"Start Training...\")\n",
    "  #for ep in range(num_train_episodes):\n",
    "#    if (ep + 1) % 100 == 0:\n",
    "#        print(ep+1)\n",
    "#    if (ep + 1) % eval_every == 0:\n",
    "#      r_mean = eval_against_random_bots(env, agents, random_agents, 1000)\n",
    "#      logging.info(\"[%s] Mean episode rewards %s\", ep + 1, r_mean)\n",
    "#      print(\"Mean episode rewards %s\", ep + 1, r_mean)\n",
    "#      result.append(r_mean)\n",
    " #   if (ep + 1) % save_every == 0:\n",
    "#      for agent in agents:\n",
    "#        agent.save(checkpoint_dir)\n",
    "  time_step = env.reset()\n",
    "  while not time_step.last():\n",
    "    player_id = time_step.observations[\"current_player\"]\n",
    "    agent_output = agents[player_id].step(time_step)\n",
    "    time_step = env.step([agent_output.action])\n",
    "  for agent in agents:\n",
    "    agent.step(time_step)"
   ]
  },
  {
   "cell_type": "code",
   "execution_count": 6,
   "metadata": {
    "id": "VG9rZPPMacPf"
   },
   "outputs": [
    {
     "data": {
      "image/png": "[encoded data removed]",
      "text/plain": [
       "<Figure size 640x480 with 1 Axes>"
      ]
     },
     "metadata": {},
     "output_type": "display_data"
    }
   ],
   "source": [
    "import matplotlib.pyplot as plt\n",
    "\n",
    "ep = [x for x in range(len(result))]\n",
    "pt_r_mean0 = [y[0] for y in result]\n",
    "pt_r_mean1 = [y[1] for y in result]\n",
    "\n",
    "plt.plot(ep,pt_r_mean0, c='red')\n",
    "plt.plot(ep,pt_r_mean1, c='blue')\n",
    "plt.xlabel('Episode')\n",
    "plt.ylabel('Mean episode rewards')\n",
    "plt.show()"
   ]
  },
  {
   "cell_type": "code",
   "execution_count": null,
   "metadata": {},
   "outputs": [],
   "source": []
  },
  {
   "cell_type": "code",
   "execution_count": null,
   "metadata": {},
   "outputs": [],
   "source": []
  }
 ],
 "metadata": {
  "colab": {
   "authorship_tag": "ABX9TyPCfUDz37PpWZfyuo3GvNNJ",
   "provenance": [
    {
     "file_id": "1qmt6AMSwXmBDZfzn3MjpBPBCYDBy7NF-",
     "timestamp": 1696791382683
    }
   ]
  },
  "kernelspec": {
   "display_name": "Python 3 (ipykernel)",
   "language": "python",
   "name": "python3"
  },
  "language_info": {
   "codemirror_mode": {
    "name": "ipython",
    "version": 3
   },
   "file_extension": ".py",
   "mimetype": "text/x-python",
   "name": "python",
   "nbconvert_exporter": "python",
   "pygments_lexer": "ipython3",
   "version": "3.11.5"
  }
 },
 "nbformat": 4,
 "nbformat_minor": 4
}
