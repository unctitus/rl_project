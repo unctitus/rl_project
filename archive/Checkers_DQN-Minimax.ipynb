{
 "cells": [
  {
   "cell_type": "code",
   "execution_count": 1,
   "metadata": {
    "colab": {
     "base_uri": "https://localhost:8080/"
    },
    "id": "Ta16A_T1fzFg",
    "outputId": "de787c24-cb2a-4576-b493-b3ecc310e7d8"
   },
   "outputs": [
    {
     "name": "stdout",
     "output_type": "stream",
     "text": [
      "Intel MKL WARNING: Support of Intel(R) Streaming SIMD Extensions 4.2 (Intel(R) SSE4.2) enabled only processors has been deprecated. Intel oneAPI Math Kernel Library 2025.0 will require Intel(R) Advanced Vector Extensions (Intel(R) AVX) instructions.\n",
      "Intel MKL WARNING: Support of Intel(R) Streaming SIMD Extensions 4.2 (Intel(R) SSE4.2) enabled only processors has been deprecated. Intel oneAPI Math Kernel Library 2025.0 will require Intel(R) Advanced Vector Extensions (Intel(R) AVX) instructions.\n"
     ]
    },
    {
     "name": "stderr",
     "output_type": "stream",
     "text": [
      "2023-12-03 17:35:34.517127: I tensorflow/core/platform/cpu_feature_guard.cc:182] This TensorFlow binary is optimized to use available CPU instructions in performance-critical operations.\n",
      "To enable the following instructions: SSE4.1 SSE4.2, in other operations, rebuild TensorFlow with the appropriate compiler flags.\n"
     ]
    },
    {
     "name": "stdout",
     "output_type": "stream",
     "text": [
      "WARNING:tensorflow:From /Users/titus/anaconda3/envs/tf/lib/python3.11/site-packages/tensorflow/python/compat/v2_compat.py:107: disable_resource_variables (from tensorflow.python.ops.variable_scope) is deprecated and will be removed in a future version.\n",
      "Instructions for updating:\n",
      "non-resource variables are not supported in the long term\n"
     ]
    }
   ],
   "source": [
    "from absl import logging\n",
    "import numpy as np\n",
    "import tensorflow.compat.v1 as tf\n",
    "\n",
    "from open_spiel.python import rl_environment\n",
    "from open_spiel.python.algorithms import dqn\n",
    "from open_spiel.python.algorithms import random_agent\n",
    "from open_spiel.python.algorithms import minimax\n",
    "from open_spiel.python.algorithms import minimax_agent"
   ]
  },
  {
   "cell_type": "code",
   "execution_count": 2,
   "metadata": {
    "id": "Lm5xaFzxgSw6"
   },
   "outputs": [],
   "source": [
    "# Training parameters\n",
    "#Directory to save/load the agent models.\n",
    "checkpoint_dir = \"/Users/titus/Desktop/MLAgents/Checkers2\"\n",
    "#checkpoint_dir = \n",
    "#Episode frequency at which the DQN agent models are saved\n",
    "save_every = int(1e4)\n",
    "\n",
    "#Number of training episodes.\n",
    "num_train_episodes = int(1e6)\n",
    "\n",
    "#Episode frequency at which the DQN agents are evaluated.\n",
    "eval_every = 100\n",
    "\n",
    "\n",
    "# DQN model hyper-parameters\n",
    "\n",
    "#Number of hidden units in the Q-Network MLP\n",
    "hidden_layers_sizes = [64, 64]\n",
    "\n",
    "#Size of the replay buffer\n",
    "replay_buffer_capacity = int(1e5)\n",
    "\n",
    "#Number of transitions to sample at each learning step.                     \n",
    "batch_size = 32"
   ]
  },
  {
   "cell_type": "code",
   "execution_count": 3,
   "metadata": {},
   "outputs": [],
   "source": [
    "def evaluate(state):\n",
    "  kWhite = state.observation_string().count('o')\n",
    "  kWhiteKing = state.observation_string().count('8') - 1 #one row is also labeld 8\n",
    "  kBlack = state.observation_string().count('+') \n",
    "  kBlackKing = state.observation_string().count('*')\n",
    "  return -1 * state.current_player() * (kWhite + 2*kWhiteKing - kBlack - 2*kBlackKing) #player 0 moves white pieces"
   ]
  },
  {
   "cell_type": "code",
   "execution_count": 4,
   "metadata": {},
   "outputs": [
    {
     "name": "stdout",
     "output_type": "stream",
     "text": [
      "INFO:tensorflow:Restoring parameters from /Users/titus/Desktop/MLAgents/Checkers2/q_network_pid0\n"
     ]
    },
    {
     "name": "stderr",
     "output_type": "stream",
     "text": [
      "2023-12-03 17:35:43.155353: I tensorflow/compiler/mlir/mlir_graph_optimization_pass.cc:353] MLIR V1 optimization pass is not enabled\n",
      "INFO:tensorflow:Restoring parameters from /Users/titus/Desktop/MLAgents/Checkers2/q_network_pid0\n"
     ]
    },
    {
     "name": "stdout",
     "output_type": "stream",
     "text": [
      "INFO:tensorflow:Restoring parameters from /Users/titus/Desktop/MLAgents/Checkers2/target_q_network_pid0\n"
     ]
    },
    {
     "name": "stderr",
     "output_type": "stream",
     "text": [
      "INFO:tensorflow:Restoring parameters from /Users/titus/Desktop/MLAgents/Checkers2/target_q_network_pid0\n"
     ]
    },
    {
     "name": "stdout",
     "output_type": "stream",
     "text": [
      "INFO:tensorflow:Restoring parameters from /Users/titus/Desktop/MLAgents/Checkers2/q_network_pid1\n"
     ]
    },
    {
     "name": "stderr",
     "output_type": "stream",
     "text": [
      "INFO:tensorflow:Restoring parameters from /Users/titus/Desktop/MLAgents/Checkers2/q_network_pid1\n"
     ]
    },
    {
     "name": "stdout",
     "output_type": "stream",
     "text": [
      "INFO:tensorflow:Restoring parameters from /Users/titus/Desktop/MLAgents/Checkers2/target_q_network_pid1\n"
     ]
    },
    {
     "name": "stderr",
     "output_type": "stream",
     "text": [
      "INFO:tensorflow:Restoring parameters from /Users/titus/Desktop/MLAgents/Checkers2/target_q_network_pid1\n"
     ]
    }
   ],
   "source": [
    "game = \"checkers\"\n",
    "num_players = 2\n",
    "env = rl_environment.Environment(game)\n",
    "info_state_size = env.observation_spec()[\"info_state\"][0]\n",
    "num_actions = env.action_spec()[\"num_actions\"]\n",
    "\n",
    "#minimax agents for evaluation\n",
    "minimax_agents = [\n",
    "    minimax_agent.MiniMaxAgent(env.game, env.get_state, player_id=idx, num_actions=num_actions, maximum_depth=8, value_function=evaluate)\n",
    "    for idx in range(num_players)\n",
    "]\n",
    "sess = tf.Session()\n",
    "\n",
    "with sess.as_default():\n",
    "    agents = [\n",
    "          dqn.DQN(\n",
    "              session=sess,\n",
    "              player_id=idx,\n",
    "              state_representation_size=info_state_size,\n",
    "              num_actions=num_actions,\n",
    "              hidden_layers_sizes=hidden_layers_sizes,\n",
    "              replay_buffer_capacity=replay_buffer_capacity,\n",
    "              batch_size=batch_size) for idx in range(num_players)\n",
    "      ]\n",
    "    for agent in agents:\n",
    "        agent.restore(checkpoint_dir)"
   ]
  },
  {
   "cell_type": "code",
   "execution_count": 6,
   "metadata": {
    "id": "k64klwHugYyw"
   },
   "outputs": [],
   "source": [
    "def eval_against_minimax(env, trained_agents, minimax_agents, num_episodes):\n",
    "  \"\"\"Evaluates `trained_agents` against `minimax` for `num_episodes`.\"\"\"\n",
    "  num_players = len(trained_agents)\n",
    "  sum_episode_rewards = np.zeros(num_players)\n",
    "  for player_pos in range(num_players):\n",
    "    cur_agents = minimax_agents[:]\n",
    "    cur_agents[player_pos] = trained_agents[player_pos]\n",
    "    print(cur_agents)\n",
    "    for _ in range(num_episodes):\n",
    "      time_step = env.reset()\n",
    "      episode_rewards = 0\n",
    "      while not time_step.last():\n",
    "        player_id = time_step.observations[\"current_player\"]\n",
    "        if player_id == player_pos:\n",
    "          agent_output = cur_agents[player_id].step(\n",
    "              time_step, is_evaluation=True)\n",
    "          action_list = [agent_output.action]\n",
    "        else:\n",
    "          agent_output = cur_agents[player_id].step(time_step, is_evaluation=True, state=env.get_state)\n",
    "          action_list = [agent_output.action]\n",
    "        time_step = env.step(action_list)\n",
    "        episode_rewards += time_step.rewards[player_pos]\n",
    "      sum_episode_rewards[player_pos] += episode_rewards\n",
    "  return sum_episode_rewards / num_episodes"
   ]
  },
  {
   "cell_type": "code",
   "execution_count": 7,
   "metadata": {},
   "outputs": [],
   "source": [
    "def eval_against_minimax2(env, trained_agents, minimax_agents, num_episodes, value_function):\n",
    "  \"\"\"Evaluates `trained_agents` against `minimax` for `num_episodes`.\"\"\"\n",
    "  num_players = len(trained_agents)\n",
    "  sum_episode_rewards = np.zeros((2,2))\n",
    "  for player_pos in range(num_players):\n",
    "    cur_agents = minimax_agents[:]\n",
    "    cur_agents[player_pos] = trained_agents[player_pos]\n",
    "    print(\"DQN Agent Player ID \", player_pos)\n",
    "    for _ in range(num_episodes):\n",
    "      time_step = env.reset()\n",
    "      episode_rewards = [0,0]\n",
    "      while not time_step.last():\n",
    "        player_id = time_step.observations[\"current_player\"]\n",
    "        if player_id == player_pos:\n",
    "          agent_output = cur_agents[player_id].step(\n",
    "              time_step, is_evaluation=True)\n",
    "          action_list = [agent_output.action]\n",
    "        else:\n",
    "          _ , action = minimax.alpha_beta_search(env.game, \n",
    "                                           env.get_state, \n",
    "                                           value_function=evaluate, \n",
    "                                           maximum_depth = 2,\n",
    "                                           maximizing_player_id=player_id)\n",
    "          action_list = [action]\n",
    "        time_step = env.step(action_list)\n",
    "        \n",
    "        for player_id in range(2):\n",
    "          episode_rewards[player_id] += time_step.rewards[player_id] \n",
    "      print(episode_rewards)\n",
    "      for player_id in range(2):\n",
    "        sum_episode_rewards[player_pos, player_id] += episode_rewards[player_id]\n",
    "  return sum_episode_rewards"
   ]
  },
  {
   "cell_type": "code",
   "execution_count": 8,
   "metadata": {},
   "outputs": [],
   "source": [
    "def eval_against_minimax3(env, trained_agents, minimax_agents, value_function, maximum_depth):\n",
    "  \"\"\"Evaluates `trained_agents` against `minimax` for.\"\"\"\n",
    "  num_players = len(trained_agents)\n",
    "  sum_episode_rewards = np.zeros(num_players)\n",
    "  for player_pos in range(num_players):\n",
    "    cur_agents = minimax_agents[:]\n",
    "    cur_agents[player_pos] = trained_agents[player_pos]\n",
    "    time_step = env.reset()\n",
    "    episode_rewards = 0\n",
    "    while not time_step.last():\n",
    "      player_id = time_step.observations[\"current_player\"]\n",
    "      if player_id == player_pos:\n",
    "        agent_output = cur_agents[player_id].step(time_step, is_evaluation=True)\n",
    "        action_list = [agent_output.action]\n",
    "      else:\n",
    "        _ , action = minimax.alpha_beta_search(env.game, env.get_state, value_function=value_function, maximum_depth = maximum_depth, maximizing_player_id=player_id)\n",
    "        action_list = [action]\n",
    "      time_step = env.step(action_list)\n",
    "    sum_episode_rewards[player_pos] = time_step.rewards[player_pos]    \n",
    "  return sum_episode_rewards"
   ]
  },
  {
   "cell_type": "code",
   "execution_count": 9,
   "metadata": {},
   "outputs": [
    {
     "name": "stdout",
     "output_type": "stream",
     "text": [
      "8.+.+.+.+\n",
      "7+.+.+.+.\n",
      "6.+.+.+.+\n",
      "5........\n",
      "4.o......\n",
      "3..o.o.o.\n",
      "2.o.o.o.o\n",
      "1o.o.o.o.\n",
      " abcdefgh\n",
      "\n",
      "1\n"
     ]
    }
   ],
   "source": [
    "import pyspiel \n",
    "\n",
    "game = pyspiel.load_game(\"checkers\")\n",
    "state = game.new_initial_state()\n",
    "\n",
    "state.apply_action(322)\n",
    "print(state)\n",
    "print(state.current_player())"
   ]
  },
  {
   "cell_type": "code",
   "execution_count": 12,
   "metadata": {},
   "outputs": [
    {
     "name": "stdout",
     "output_type": "stream",
     "text": [
      "DQN Agent Player ID  0\n",
      "[0.0, 0.0]\n",
      "DQN Agent Player ID  1\n",
      "[-1.0, 1.0]\n",
      "[[ 0.  0.]\n",
      " [-1.  1.]]\n"
     ]
    }
   ],
   "source": [
    "with sess.as_default():\n",
    "    agents2 = [agents[1], agents[0]]\n",
    "    #print(eval_against_minimax2(env, agents2, minimax_agents, 3, value_function=evaluate))\n",
    "    #print(eval_against_minimax2(env, agents, minimax_agents, 1, value_function=evaluate))\n",
    "    #print(eval_against_minimax3(env, agents, minimax_agents, evaluate, 7))"
   ]
  },
  {
   "cell_type": "code",
   "execution_count": 17,
   "metadata": {
    "colab": {
     "background_save": true,
     "base_uri": "https://localhost:8080/"
    },
    "id": "rRQPDuDkfwyY",
    "outputId": "aebd5986-1c14-47db-b5da-7bc15fbe4c53"
   },
   "outputs": [
    {
     "name": "stderr",
     "output_type": "stream",
     "text": [
      "2023-12-03 17:30:30.862876: W tensorflow/c/c_api.cc:300] Operation '{name:'mlp_7/bias_2/Assign' id:1229 op device:{requested: '', assigned: ''} def:{{{node mlp_7/bias_2/Assign}} = Assign[T=DT_FLOAT, _class=[\"loc:@mlp_7/bias_2\"], _has_manual_control_dependencies=true, use_locking=true, validate_shape=true](mlp_7/bias_2, mlp_7/zeros_2)}}' was changed by setting attribute after it was run by a session. This mutation will have no effect, and will trigger an error in the future. Either don't modify nodes after running them or create a new session.\n"
     ]
    },
    {
     "name": "stdout",
     "output_type": "stream",
     "text": [
      "Start Training...\n",
      "100\n",
      "[<open_spiel.python.algorithms.dqn.DQN object at 0x13c49f5d0>, <open_spiel.python.algorithms.minimax_agent.MiniMaxAgent object at 0x13c2ff210>]\n",
      "[<open_spiel.python.algorithms.minimax_agent.MiniMaxAgent object at 0x10d20d9d0>, <open_spiel.python.algorithms.dqn.DQN object at 0x13c304450>]\n",
      "Mean episode rewards 100 [0. 1.]\n",
      "200\n",
      "[<open_spiel.python.algorithms.dqn.DQN object at 0x13c49f5d0>, <open_spiel.python.algorithms.minimax_agent.MiniMaxAgent object at 0x13c2ff210>]\n",
      "[<open_spiel.python.algorithms.minimax_agent.MiniMaxAgent object at 0x10d20d9d0>, <open_spiel.python.algorithms.dqn.DQN object at 0x13c304450>]\n",
      "Mean episode rewards 200 [1. 1.]\n",
      "300\n",
      "[<open_spiel.python.algorithms.dqn.DQN object at 0x13c49f5d0>, <open_spiel.python.algorithms.minimax_agent.MiniMaxAgent object at 0x13c2ff210>]\n",
      "[<open_spiel.python.algorithms.minimax_agent.MiniMaxAgent object at 0x10d20d9d0>, <open_spiel.python.algorithms.dqn.DQN object at 0x13c304450>]\n",
      "Mean episode rewards 300 [1. 1.]\n",
      "400\n",
      "[<open_spiel.python.algorithms.dqn.DQN object at 0x13c49f5d0>, <open_spiel.python.algorithms.minimax_agent.MiniMaxAgent object at 0x13c2ff210>]\n",
      "[<open_spiel.python.algorithms.minimax_agent.MiniMaxAgent object at 0x10d20d9d0>, <open_spiel.python.algorithms.dqn.DQN object at 0x13c304450>]\n",
      "Mean episode rewards 400 [0. 1.]\n",
      "500\n",
      "[<open_spiel.python.algorithms.dqn.DQN object at 0x13c49f5d0>, <open_spiel.python.algorithms.minimax_agent.MiniMaxAgent object at 0x13c2ff210>]\n",
      "[<open_spiel.python.algorithms.minimax_agent.MiniMaxAgent object at 0x10d20d9d0>, <open_spiel.python.algorithms.dqn.DQN object at 0x13c304450>]\n",
      "Mean episode rewards 500 [0. 1.]\n",
      "600\n",
      "[<open_spiel.python.algorithms.dqn.DQN object at 0x13c49f5d0>, <open_spiel.python.algorithms.minimax_agent.MiniMaxAgent object at 0x13c2ff210>]\n",
      "[<open_spiel.python.algorithms.minimax_agent.MiniMaxAgent object at 0x10d20d9d0>, <open_spiel.python.algorithms.dqn.DQN object at 0x13c304450>]\n",
      "Mean episode rewards 600 [-1.  1.]\n",
      "700\n",
      "[<open_spiel.python.algorithms.dqn.DQN object at 0x13c49f5d0>, <open_spiel.python.algorithms.minimax_agent.MiniMaxAgent object at 0x13c2ff210>]\n",
      "[<open_spiel.python.algorithms.minimax_agent.MiniMaxAgent object at 0x10d20d9d0>, <open_spiel.python.algorithms.dqn.DQN object at 0x13c304450>]\n",
      "Mean episode rewards 700 [0. 1.]\n",
      "800\n",
      "[<open_spiel.python.algorithms.dqn.DQN object at 0x13c49f5d0>, <open_spiel.python.algorithms.minimax_agent.MiniMaxAgent object at 0x13c2ff210>]\n",
      "[<open_spiel.python.algorithms.minimax_agent.MiniMaxAgent object at 0x10d20d9d0>, <open_spiel.python.algorithms.dqn.DQN object at 0x13c304450>]\n",
      "Mean episode rewards 800 [0. 0.]\n",
      "900\n",
      "[<open_spiel.python.algorithms.dqn.DQN object at 0x13c49f5d0>, <open_spiel.python.algorithms.minimax_agent.MiniMaxAgent object at 0x13c2ff210>]\n",
      "[<open_spiel.python.algorithms.minimax_agent.MiniMaxAgent object at 0x10d20d9d0>, <open_spiel.python.algorithms.dqn.DQN object at 0x13c304450>]\n",
      "Mean episode rewards 900 [-1.  0.]\n",
      "1000\n",
      "[<open_spiel.python.algorithms.dqn.DQN object at 0x13c49f5d0>, <open_spiel.python.algorithms.minimax_agent.MiniMaxAgent object at 0x13c2ff210>]\n",
      "[<open_spiel.python.algorithms.minimax_agent.MiniMaxAgent object at 0x10d20d9d0>, <open_spiel.python.algorithms.dqn.DQN object at 0x13c304450>]\n",
      "Mean episode rewards 1000 [0. 0.]\n",
      "1100\n",
      "[<open_spiel.python.algorithms.dqn.DQN object at 0x13c49f5d0>, <open_spiel.python.algorithms.minimax_agent.MiniMaxAgent object at 0x13c2ff210>]\n"
     ]
    },
    {
     "ename": "KeyboardInterrupt",
     "evalue": "",
     "output_type": "error",
     "traceback": [
      "\u001b[0;31m---------------------------------------------------------------------------\u001b[0m",
      "\u001b[0;31mKeyboardInterrupt\u001b[0m                         Traceback (most recent call last)",
      "Cell \u001b[0;32mIn[17], line 22\u001b[0m\n\u001b[1;32m     20\u001b[0m     \u001b[38;5;28mprint\u001b[39m(ep\u001b[38;5;241m+\u001b[39m\u001b[38;5;241m1\u001b[39m)\n\u001b[1;32m     21\u001b[0m \u001b[38;5;28;01mif\u001b[39;00m (ep \u001b[38;5;241m+\u001b[39m \u001b[38;5;241m1\u001b[39m) \u001b[38;5;241m%\u001b[39m eval_every \u001b[38;5;241m==\u001b[39m \u001b[38;5;241m0\u001b[39m:\n\u001b[0;32m---> 22\u001b[0m   r_mean \u001b[38;5;241m=\u001b[39m \u001b[43meval_against_minimax\u001b[49m\u001b[43m(\u001b[49m\u001b[43menv\u001b[49m\u001b[43m,\u001b[49m\u001b[43m \u001b[49m\u001b[43magents\u001b[49m\u001b[43m,\u001b[49m\u001b[43m \u001b[49m\u001b[43mminimax_agents\u001b[49m\u001b[43m,\u001b[49m\u001b[43m \u001b[49m\u001b[38;5;241;43m1\u001b[39;49m\u001b[43m)\u001b[49m\n\u001b[1;32m     23\u001b[0m   logging\u001b[38;5;241m.\u001b[39minfo(\u001b[38;5;124m\"\u001b[39m\u001b[38;5;124m[\u001b[39m\u001b[38;5;132;01m%s\u001b[39;00m\u001b[38;5;124m] Mean episode rewards \u001b[39m\u001b[38;5;132;01m%s\u001b[39;00m\u001b[38;5;124m\"\u001b[39m, ep \u001b[38;5;241m+\u001b[39m \u001b[38;5;241m1\u001b[39m, r_mean)\n\u001b[1;32m     24\u001b[0m   \u001b[38;5;28mprint\u001b[39m(\u001b[38;5;124m\"\u001b[39m\u001b[38;5;124mMean episode rewards\u001b[39m\u001b[38;5;124m\"\u001b[39m, ep \u001b[38;5;241m+\u001b[39m \u001b[38;5;241m1\u001b[39m, r_mean)\n",
      "Cell \u001b[0;32mIn[12], line 19\u001b[0m, in \u001b[0;36meval_against_minimax\u001b[0;34m(env, trained_agents, minimax_agents, num_episodes)\u001b[0m\n\u001b[1;32m     17\u001b[0m   action_list \u001b[38;5;241m=\u001b[39m [agent_output\u001b[38;5;241m.\u001b[39maction]\n\u001b[1;32m     18\u001b[0m \u001b[38;5;28;01melse\u001b[39;00m:\n\u001b[0;32m---> 19\u001b[0m   agent_output \u001b[38;5;241m=\u001b[39m \u001b[43mcur_agents\u001b[49m\u001b[43m[\u001b[49m\u001b[43mplayer_id\u001b[49m\u001b[43m]\u001b[49m\u001b[38;5;241;43m.\u001b[39;49m\u001b[43mstep\u001b[49m\u001b[43m(\u001b[49m\u001b[43mtime_step\u001b[49m\u001b[43m,\u001b[49m\u001b[43m \u001b[49m\u001b[43mis_evaluation\u001b[49m\u001b[38;5;241;43m=\u001b[39;49m\u001b[38;5;28;43;01mTrue\u001b[39;49;00m\u001b[43m,\u001b[49m\u001b[43m \u001b[49m\u001b[43mstate\u001b[49m\u001b[38;5;241;43m=\u001b[39;49m\u001b[43menv\u001b[49m\u001b[38;5;241;43m.\u001b[39;49m\u001b[43mget_state\u001b[49m\u001b[43m)\u001b[49m\n\u001b[1;32m     20\u001b[0m   action_list \u001b[38;5;241m=\u001b[39m [agent_output\u001b[38;5;241m.\u001b[39maction]\n\u001b[1;32m     21\u001b[0m time_step \u001b[38;5;241m=\u001b[39m env\u001b[38;5;241m.\u001b[39mstep(action_list)\n",
      "File \u001b[0;32m~/anaconda3/envs/tf/lib/python3.11/site-packages/open_spiel/python/algorithms/minimax_agent.py:52\u001b[0m, in \u001b[0;36mMiniMaxAgent.step\u001b[0;34m(self, time_step, is_evaluation, state)\u001b[0m\n\u001b[1;32m     50\u001b[0m \u001b[38;5;66;03m# Pick a random legal action.\u001b[39;00m\n\u001b[1;32m     51\u001b[0m cur_legal_actions \u001b[38;5;241m=\u001b[39m time_step\u001b[38;5;241m.\u001b[39mobservations[\u001b[38;5;124m\"\u001b[39m\u001b[38;5;124mlegal_actions\u001b[39m\u001b[38;5;124m\"\u001b[39m][\u001b[38;5;28mself\u001b[39m\u001b[38;5;241m.\u001b[39m_player_id]\n\u001b[0;32m---> 52\u001b[0m _ , action \u001b[38;5;241m=\u001b[39m \u001b[43mminimax\u001b[49m\u001b[38;5;241;43m.\u001b[39;49m\u001b[43malpha_beta_search\u001b[49m\u001b[43m(\u001b[49m\u001b[38;5;28;43mself\u001b[39;49m\u001b[38;5;241;43m.\u001b[39;49m\u001b[43m_game\u001b[49m\u001b[43m,\u001b[49m\u001b[43m \u001b[49m\n\u001b[1;32m     53\u001b[0m \u001b[43m                                       \u001b[49m\u001b[43mstate\u001b[49m\u001b[43m,\u001b[49m\u001b[43m \u001b[49m\n\u001b[1;32m     54\u001b[0m \u001b[43m                                       \u001b[49m\u001b[43mvalue_function\u001b[49m\u001b[38;5;241;43m=\u001b[39;49m\u001b[38;5;28;43mself\u001b[39;49m\u001b[38;5;241;43m.\u001b[39;49m\u001b[43m_value_function\u001b[49m\u001b[43m,\u001b[49m\u001b[43m \u001b[49m\n\u001b[1;32m     55\u001b[0m \u001b[43m                                       \u001b[49m\u001b[43mmaximum_depth\u001b[49m\u001b[43m \u001b[49m\u001b[38;5;241;43m=\u001b[39;49m\u001b[43m \u001b[49m\u001b[38;5;28;43mself\u001b[39;49m\u001b[38;5;241;43m.\u001b[39;49m\u001b[43m_maximum_depth\u001b[49m\u001b[43m,\u001b[49m\n\u001b[1;32m     56\u001b[0m \u001b[43m                                       \u001b[49m\u001b[43mmaximizing_player_id\u001b[49m\u001b[38;5;241;43m=\u001b[39;49m\u001b[38;5;28;43mself\u001b[39;49m\u001b[38;5;241;43m.\u001b[39;49m\u001b[43m_player_id\u001b[49m\u001b[43m)\u001b[49m\n\u001b[1;32m     57\u001b[0m probs \u001b[38;5;241m=\u001b[39m np\u001b[38;5;241m.\u001b[39mzeros(\u001b[38;5;28mself\u001b[39m\u001b[38;5;241m.\u001b[39m_num_actions)\n\u001b[1;32m     58\u001b[0m probs[cur_legal_actions] \u001b[38;5;241m=\u001b[39m \u001b[38;5;241m1.0\u001b[39m \u001b[38;5;241m/\u001b[39m \u001b[38;5;28mlen\u001b[39m(cur_legal_actions)\n",
      "File \u001b[0;32m~/anaconda3/envs/tf/lib/python3.11/site-packages/open_spiel/python/algorithms/minimax.py:143\u001b[0m, in \u001b[0;36malpha_beta_search\u001b[0;34m(game, state, value_function, maximum_depth, maximizing_player_id)\u001b[0m\n\u001b[1;32m    141\u001b[0m \u001b[38;5;28;01mif\u001b[39;00m maximizing_player_id \u001b[38;5;129;01mis\u001b[39;00m \u001b[38;5;28;01mNone\u001b[39;00m:\n\u001b[1;32m    142\u001b[0m   maximizing_player_id \u001b[38;5;241m=\u001b[39m state\u001b[38;5;241m.\u001b[39mcurrent_player()\n\u001b[0;32m--> 143\u001b[0m \u001b[38;5;28;01mreturn\u001b[39;00m \u001b[43m_alpha_beta\u001b[49m\u001b[43m(\u001b[49m\n\u001b[1;32m    144\u001b[0m \u001b[43m    \u001b[49m\u001b[43mstate\u001b[49m\u001b[38;5;241;43m.\u001b[39;49m\u001b[43mclone\u001b[49m\u001b[43m(\u001b[49m\u001b[43m)\u001b[49m\u001b[43m,\u001b[49m\n\u001b[1;32m    145\u001b[0m \u001b[43m    \u001b[49m\u001b[43mmaximum_depth\u001b[49m\u001b[43m,\u001b[49m\n\u001b[1;32m    146\u001b[0m \u001b[43m    \u001b[49m\u001b[43malpha\u001b[49m\u001b[38;5;241;43m=\u001b[39;49m\u001b[38;5;241;43m-\u001b[39;49m\u001b[38;5;28;43mfloat\u001b[39;49m\u001b[43m(\u001b[49m\u001b[38;5;124;43m\"\u001b[39;49m\u001b[38;5;124;43minf\u001b[39;49m\u001b[38;5;124;43m\"\u001b[39;49m\u001b[43m)\u001b[49m\u001b[43m,\u001b[49m\n\u001b[1;32m    147\u001b[0m \u001b[43m    \u001b[49m\u001b[43mbeta\u001b[49m\u001b[38;5;241;43m=\u001b[39;49m\u001b[38;5;28;43mfloat\u001b[39;49m\u001b[43m(\u001b[49m\u001b[38;5;124;43m\"\u001b[39;49m\u001b[38;5;124;43minf\u001b[39;49m\u001b[38;5;124;43m\"\u001b[39;49m\u001b[43m)\u001b[49m\u001b[43m,\u001b[49m\n\u001b[1;32m    148\u001b[0m \u001b[43m    \u001b[49m\u001b[43mvalue_function\u001b[49m\u001b[38;5;241;43m=\u001b[39;49m\u001b[43mvalue_function\u001b[49m\u001b[43m,\u001b[49m\n\u001b[1;32m    149\u001b[0m \u001b[43m    \u001b[49m\u001b[43mmaximizing_player_id\u001b[49m\u001b[38;5;241;43m=\u001b[39;49m\u001b[43mmaximizing_player_id\u001b[49m\u001b[43m)\u001b[49m\n",
      "File \u001b[0;32m~/anaconda3/envs/tf/lib/python3.11/site-packages/open_spiel/python/algorithms/minimax.py:71\u001b[0m, in \u001b[0;36m_alpha_beta\u001b[0;34m(state, depth, alpha, beta, value_function, maximizing_player_id)\u001b[0m\n\u001b[1;32m     69\u001b[0m child_state \u001b[38;5;241m=\u001b[39m state\u001b[38;5;241m.\u001b[39mclone()\n\u001b[1;32m     70\u001b[0m child_state\u001b[38;5;241m.\u001b[39mapply_action(action)\n\u001b[0;32m---> 71\u001b[0m child_value, _ \u001b[38;5;241m=\u001b[39m \u001b[43m_alpha_beta\u001b[49m\u001b[43m(\u001b[49m\u001b[43mchild_state\u001b[49m\u001b[43m,\u001b[49m\u001b[43m \u001b[49m\u001b[43mdepth\u001b[49m\u001b[43m \u001b[49m\u001b[38;5;241;43m-\u001b[39;49m\u001b[43m \u001b[49m\u001b[38;5;241;43m1\u001b[39;49m\u001b[43m,\u001b[49m\u001b[43m \u001b[49m\u001b[43malpha\u001b[49m\u001b[43m,\u001b[49m\u001b[43m \u001b[49m\u001b[43mbeta\u001b[49m\u001b[43m,\u001b[49m\n\u001b[1;32m     72\u001b[0m \u001b[43m                             \u001b[49m\u001b[43mvalue_function\u001b[49m\u001b[43m,\u001b[49m\u001b[43m \u001b[49m\u001b[43mmaximizing_player_id\u001b[49m\u001b[43m)\u001b[49m\n\u001b[1;32m     73\u001b[0m \u001b[38;5;28;01mif\u001b[39;00m child_value \u001b[38;5;241m>\u001b[39m value:\n\u001b[1;32m     74\u001b[0m   value \u001b[38;5;241m=\u001b[39m child_value\n",
      "File \u001b[0;32m~/anaconda3/envs/tf/lib/python3.11/site-packages/open_spiel/python/algorithms/minimax.py:85\u001b[0m, in \u001b[0;36m_alpha_beta\u001b[0;34m(state, depth, alpha, beta, value_function, maximizing_player_id)\u001b[0m\n\u001b[1;32m     83\u001b[0m child_state \u001b[38;5;241m=\u001b[39m state\u001b[38;5;241m.\u001b[39mclone()\n\u001b[1;32m     84\u001b[0m child_state\u001b[38;5;241m.\u001b[39mapply_action(action)\n\u001b[0;32m---> 85\u001b[0m child_value, _ \u001b[38;5;241m=\u001b[39m \u001b[43m_alpha_beta\u001b[49m\u001b[43m(\u001b[49m\u001b[43mchild_state\u001b[49m\u001b[43m,\u001b[49m\u001b[43m \u001b[49m\u001b[43mdepth\u001b[49m\u001b[43m \u001b[49m\u001b[38;5;241;43m-\u001b[39;49m\u001b[43m \u001b[49m\u001b[38;5;241;43m1\u001b[39;49m\u001b[43m,\u001b[49m\u001b[43m \u001b[49m\u001b[43malpha\u001b[49m\u001b[43m,\u001b[49m\u001b[43m \u001b[49m\u001b[43mbeta\u001b[49m\u001b[43m,\u001b[49m\n\u001b[1;32m     86\u001b[0m \u001b[43m                             \u001b[49m\u001b[43mvalue_function\u001b[49m\u001b[43m,\u001b[49m\u001b[43m \u001b[49m\u001b[43mmaximizing_player_id\u001b[49m\u001b[43m)\u001b[49m\n\u001b[1;32m     87\u001b[0m \u001b[38;5;28;01mif\u001b[39;00m child_value \u001b[38;5;241m<\u001b[39m value:\n\u001b[1;32m     88\u001b[0m   value \u001b[38;5;241m=\u001b[39m child_value\n",
      "File \u001b[0;32m~/anaconda3/envs/tf/lib/python3.11/site-packages/open_spiel/python/algorithms/minimax.py:71\u001b[0m, in \u001b[0;36m_alpha_beta\u001b[0;34m(state, depth, alpha, beta, value_function, maximizing_player_id)\u001b[0m\n\u001b[1;32m     69\u001b[0m child_state \u001b[38;5;241m=\u001b[39m state\u001b[38;5;241m.\u001b[39mclone()\n\u001b[1;32m     70\u001b[0m child_state\u001b[38;5;241m.\u001b[39mapply_action(action)\n\u001b[0;32m---> 71\u001b[0m child_value, _ \u001b[38;5;241m=\u001b[39m \u001b[43m_alpha_beta\u001b[49m\u001b[43m(\u001b[49m\u001b[43mchild_state\u001b[49m\u001b[43m,\u001b[49m\u001b[43m \u001b[49m\u001b[43mdepth\u001b[49m\u001b[43m \u001b[49m\u001b[38;5;241;43m-\u001b[39;49m\u001b[43m \u001b[49m\u001b[38;5;241;43m1\u001b[39;49m\u001b[43m,\u001b[49m\u001b[43m \u001b[49m\u001b[43malpha\u001b[49m\u001b[43m,\u001b[49m\u001b[43m \u001b[49m\u001b[43mbeta\u001b[49m\u001b[43m,\u001b[49m\n\u001b[1;32m     72\u001b[0m \u001b[43m                             \u001b[49m\u001b[43mvalue_function\u001b[49m\u001b[43m,\u001b[49m\u001b[43m \u001b[49m\u001b[43mmaximizing_player_id\u001b[49m\u001b[43m)\u001b[49m\n\u001b[1;32m     73\u001b[0m \u001b[38;5;28;01mif\u001b[39;00m child_value \u001b[38;5;241m>\u001b[39m value:\n\u001b[1;32m     74\u001b[0m   value \u001b[38;5;241m=\u001b[39m child_value\n",
      "File \u001b[0;32m~/anaconda3/envs/tf/lib/python3.11/site-packages/open_spiel/python/algorithms/minimax.py:85\u001b[0m, in \u001b[0;36m_alpha_beta\u001b[0;34m(state, depth, alpha, beta, value_function, maximizing_player_id)\u001b[0m\n\u001b[1;32m     83\u001b[0m child_state \u001b[38;5;241m=\u001b[39m state\u001b[38;5;241m.\u001b[39mclone()\n\u001b[1;32m     84\u001b[0m child_state\u001b[38;5;241m.\u001b[39mapply_action(action)\n\u001b[0;32m---> 85\u001b[0m child_value, _ \u001b[38;5;241m=\u001b[39m \u001b[43m_alpha_beta\u001b[49m\u001b[43m(\u001b[49m\u001b[43mchild_state\u001b[49m\u001b[43m,\u001b[49m\u001b[43m \u001b[49m\u001b[43mdepth\u001b[49m\u001b[43m \u001b[49m\u001b[38;5;241;43m-\u001b[39;49m\u001b[43m \u001b[49m\u001b[38;5;241;43m1\u001b[39;49m\u001b[43m,\u001b[49m\u001b[43m \u001b[49m\u001b[43malpha\u001b[49m\u001b[43m,\u001b[49m\u001b[43m \u001b[49m\u001b[43mbeta\u001b[49m\u001b[43m,\u001b[49m\n\u001b[1;32m     86\u001b[0m \u001b[43m                             \u001b[49m\u001b[43mvalue_function\u001b[49m\u001b[43m,\u001b[49m\u001b[43m \u001b[49m\u001b[43mmaximizing_player_id\u001b[49m\u001b[43m)\u001b[49m\n\u001b[1;32m     87\u001b[0m \u001b[38;5;28;01mif\u001b[39;00m child_value \u001b[38;5;241m<\u001b[39m value:\n\u001b[1;32m     88\u001b[0m   value \u001b[38;5;241m=\u001b[39m child_value\n",
      "    \u001b[0;31m[... skipping similar frames: _alpha_beta at line 71 (1 times), _alpha_beta at line 85 (1 times)]\u001b[0m\n",
      "File \u001b[0;32m~/anaconda3/envs/tf/lib/python3.11/site-packages/open_spiel/python/algorithms/minimax.py:71\u001b[0m, in \u001b[0;36m_alpha_beta\u001b[0;34m(state, depth, alpha, beta, value_function, maximizing_player_id)\u001b[0m\n\u001b[1;32m     69\u001b[0m child_state \u001b[38;5;241m=\u001b[39m state\u001b[38;5;241m.\u001b[39mclone()\n\u001b[1;32m     70\u001b[0m child_state\u001b[38;5;241m.\u001b[39mapply_action(action)\n\u001b[0;32m---> 71\u001b[0m child_value, _ \u001b[38;5;241m=\u001b[39m \u001b[43m_alpha_beta\u001b[49m\u001b[43m(\u001b[49m\u001b[43mchild_state\u001b[49m\u001b[43m,\u001b[49m\u001b[43m \u001b[49m\u001b[43mdepth\u001b[49m\u001b[43m \u001b[49m\u001b[38;5;241;43m-\u001b[39;49m\u001b[43m \u001b[49m\u001b[38;5;241;43m1\u001b[39;49m\u001b[43m,\u001b[49m\u001b[43m \u001b[49m\u001b[43malpha\u001b[49m\u001b[43m,\u001b[49m\u001b[43m \u001b[49m\u001b[43mbeta\u001b[49m\u001b[43m,\u001b[49m\n\u001b[1;32m     72\u001b[0m \u001b[43m                             \u001b[49m\u001b[43mvalue_function\u001b[49m\u001b[43m,\u001b[49m\u001b[43m \u001b[49m\u001b[43mmaximizing_player_id\u001b[49m\u001b[43m)\u001b[49m\n\u001b[1;32m     73\u001b[0m \u001b[38;5;28;01mif\u001b[39;00m child_value \u001b[38;5;241m>\u001b[39m value:\n\u001b[1;32m     74\u001b[0m   value \u001b[38;5;241m=\u001b[39m child_value\n",
      "File \u001b[0;32m~/anaconda3/envs/tf/lib/python3.11/site-packages/open_spiel/python/algorithms/minimax.py:85\u001b[0m, in \u001b[0;36m_alpha_beta\u001b[0;34m(state, depth, alpha, beta, value_function, maximizing_player_id)\u001b[0m\n\u001b[1;32m     83\u001b[0m child_state \u001b[38;5;241m=\u001b[39m state\u001b[38;5;241m.\u001b[39mclone()\n\u001b[1;32m     84\u001b[0m child_state\u001b[38;5;241m.\u001b[39mapply_action(action)\n\u001b[0;32m---> 85\u001b[0m child_value, _ \u001b[38;5;241m=\u001b[39m \u001b[43m_alpha_beta\u001b[49m\u001b[43m(\u001b[49m\u001b[43mchild_state\u001b[49m\u001b[43m,\u001b[49m\u001b[43m \u001b[49m\u001b[43mdepth\u001b[49m\u001b[43m \u001b[49m\u001b[38;5;241;43m-\u001b[39;49m\u001b[43m \u001b[49m\u001b[38;5;241;43m1\u001b[39;49m\u001b[43m,\u001b[49m\u001b[43m \u001b[49m\u001b[43malpha\u001b[49m\u001b[43m,\u001b[49m\u001b[43m \u001b[49m\u001b[43mbeta\u001b[49m\u001b[43m,\u001b[49m\n\u001b[1;32m     86\u001b[0m \u001b[43m                             \u001b[49m\u001b[43mvalue_function\u001b[49m\u001b[43m,\u001b[49m\u001b[43m \u001b[49m\u001b[43mmaximizing_player_id\u001b[49m\u001b[43m)\u001b[49m\n\u001b[1;32m     87\u001b[0m \u001b[38;5;28;01mif\u001b[39;00m child_value \u001b[38;5;241m<\u001b[39m value:\n\u001b[1;32m     88\u001b[0m   value \u001b[38;5;241m=\u001b[39m child_value\n",
      "File \u001b[0;32m~/anaconda3/envs/tf/lib/python3.11/site-packages/open_spiel/python/algorithms/minimax.py:62\u001b[0m, in \u001b[0;36m_alpha_beta\u001b[0;34m(state, depth, alpha, beta, value_function, maximizing_player_id)\u001b[0m\n\u001b[1;32m     58\u001b[0m   \u001b[38;5;28;01mraise\u001b[39;00m \u001b[38;5;167;01mNotImplementedError\u001b[39;00m(\n\u001b[1;32m     59\u001b[0m       \u001b[38;5;124m\"\u001b[39m\u001b[38;5;124mWe assume we can walk the full depth of the tree. \u001b[39m\u001b[38;5;124m\"\u001b[39m\n\u001b[1;32m     60\u001b[0m       \u001b[38;5;124m\"\u001b[39m\u001b[38;5;124mTry increasing the maximum_depth or provide a value_function.\u001b[39m\u001b[38;5;124m\"\u001b[39m)\n\u001b[1;32m     61\u001b[0m \u001b[38;5;28;01mif\u001b[39;00m depth \u001b[38;5;241m==\u001b[39m \u001b[38;5;241m0\u001b[39m:\n\u001b[0;32m---> 62\u001b[0m   \u001b[38;5;28;01mreturn\u001b[39;00m \u001b[43mvalue_function\u001b[49m\u001b[43m(\u001b[49m\u001b[43mstate\u001b[49m\u001b[43m)\u001b[49m, \u001b[38;5;28;01mNone\u001b[39;00m\n\u001b[1;32m     64\u001b[0m player \u001b[38;5;241m=\u001b[39m state\u001b[38;5;241m.\u001b[39mcurrent_player()\n\u001b[1;32m     65\u001b[0m best_action \u001b[38;5;241m=\u001b[39m \u001b[38;5;241m-\u001b[39m\u001b[38;5;241m1\u001b[39m\n",
      "Cell \u001b[0;32mIn[10], line 3\u001b[0m, in \u001b[0;36mevaluate\u001b[0;34m(state)\u001b[0m\n\u001b[1;32m      1\u001b[0m \u001b[38;5;28;01mdef\u001b[39;00m \u001b[38;5;21mevaluate\u001b[39m(state):\n\u001b[1;32m      2\u001b[0m   kWhite \u001b[38;5;241m=\u001b[39m state\u001b[38;5;241m.\u001b[39mobservation_string()\u001b[38;5;241m.\u001b[39mcount(\u001b[38;5;124m'\u001b[39m\u001b[38;5;124mo\u001b[39m\u001b[38;5;124m'\u001b[39m)\n\u001b[0;32m----> 3\u001b[0m   kWhiteKing \u001b[38;5;241m=\u001b[39m \u001b[43mstate\u001b[49m\u001b[38;5;241;43m.\u001b[39;49m\u001b[43mobservation_string\u001b[49m\u001b[43m(\u001b[49m\u001b[43m)\u001b[49m\u001b[38;5;241m.\u001b[39mcount(\u001b[38;5;124m'\u001b[39m\u001b[38;5;124m8\u001b[39m\u001b[38;5;124m'\u001b[39m) \u001b[38;5;241m-\u001b[39m \u001b[38;5;241m1\u001b[39m \u001b[38;5;66;03m#one row is also labeld 8\u001b[39;00m\n\u001b[1;32m      4\u001b[0m   kBlack \u001b[38;5;241m=\u001b[39m state\u001b[38;5;241m.\u001b[39mobservation_string()\u001b[38;5;241m.\u001b[39mcount(\u001b[38;5;124m'\u001b[39m\u001b[38;5;124m+\u001b[39m\u001b[38;5;124m'\u001b[39m) \n\u001b[1;32m      5\u001b[0m   kBlackKing \u001b[38;5;241m=\u001b[39m state\u001b[38;5;241m.\u001b[39mobservation_string()\u001b[38;5;241m.\u001b[39mcount(\u001b[38;5;124m'\u001b[39m\u001b[38;5;124m*\u001b[39m\u001b[38;5;124m'\u001b[39m)\n",
      "\u001b[0;31mKeyboardInterrupt\u001b[0m: "
     ]
    }
   ],
   "source": [
    "with tf.Session() as sess:\n",
    "  hidden_layers_sizes = [int(l) for l in hidden_layers_sizes]\n",
    "  # pylint: disable=g-complex-comprehension\n",
    "  agents = [\n",
    "      dqn.DQN(\n",
    "          session=sess,\n",
    "          player_id=idx,\n",
    "          state_representation_size=info_state_size,\n",
    "          num_actions=num_actions,\n",
    "          hidden_layers_sizes=hidden_layers_sizes,\n",
    "          replay_buffer_capacity=replay_buffer_capacity,\n",
    "          batch_size=batch_size) for idx in range(num_players)\n",
    "  ]\n",
    "  sess.run(tf.global_variables_initializer())\n",
    "\n",
    "  result = []\n",
    "  print(\"Start Training...\")\n",
    "  for ep in range(num_train_episodes):\n",
    "    if (ep + 1) % 100 == 0:\n",
    "        print(ep+1)\n",
    "    if (ep + 1) % eval_every == 0:\n",
    "      r_mean = eval_against_minimax(env, agents, minimax_agents, 1)\n",
    "      logging.info(\"[%s] Mean episode rewards %s\", ep + 1, r_mean)\n",
    "      print(\"Mean episode rewards\", ep + 1, r_mean)\n",
    "      result.append(r_mean)\n",
    "    if (ep + 1) % save_every == 0:\n",
    "      for agent in agents:\n",
    "        agent.save(checkpoint_dir)\n",
    "\n",
    "    time_step = env.reset()\n",
    "    while not time_step.last():\n",
    "      player_id = time_step.observations[\"current_player\"]\n",
    "      if env.is_turn_based:\n",
    "        agent_output = agents[player_id].step(time_step)\n",
    "        action_list = [agent_output.action]\n",
    "      else:\n",
    "        agents_output = [agent.step(time_step) for agent in agents]\n",
    "        action_list = [agent_output.action for agent_output in agents_output]\n",
    "      time_step = env.step(action_list)\n",
    "\n",
    "    # Episode is over, step all agents with final info state.\n",
    "    for agent in agents:\n",
    "      agent.step(time_step)\n",
    "    "
   ]
  },
  {
   "cell_type": "code",
   "execution_count": 18,
   "metadata": {
    "colab": {
     "base_uri": "https://localhost:8080/",
     "height": 246
    },
    "id": "k-sat7hSZo-i",
    "outputId": "ece790ae-49e3-4aa9-c828-8fca9766810e"
   },
   "outputs": [
    {
     "data": {
      "image/png": "[encoded data removed]",
      "text/plain": [
       "<Figure size 640x480 with 1 Axes>"
      ]
     },
     "metadata": {},
     "output_type": "display_data"
    }
   ],
   "source": [
    "import matplotlib.pyplot as plt\n",
    "\n",
    "ep = [x for x in range(len(result))]\n",
    "pt_r_mean0 = [y[0] for y in result]\n",
    "pt_r_mean1 = [y[1] for y in result]\n",
    "\n",
    "plt.plot(ep,pt_r_mean0, c='red')\n",
    "plt.plot(ep,pt_r_mean1, c='blue')\n",
    "plt.xlabel('Episode')\n",
    "plt.ylabel('Mean episode rewards')\n",
    "plt.show()"
   ]
  },
  {
   "cell_type": "code",
   "execution_count": null,
   "metadata": {},
   "outputs": [],
   "source": []
  },
  {
   "cell_type": "code",
   "execution_count": null,
   "metadata": {},
   "outputs": [],
   "source": []
  }
 ],
 "metadata": {
  "colab": {
   "provenance": []
  },
  "kernelspec": {
   "display_name": "Python 3 (ipykernel)",
   "language": "python",
   "name": "python3"
  },
  "language_info": {
   "codemirror_mode": {
    "name": "ipython",
    "version": 3
   },
   "file_extension": ".py",
   "mimetype": "text/x-python",
   "name": "python",
   "nbconvert_exporter": "python",
   "pygments_lexer": "ipython3",
   "version": "3.11.5"
  }
 },
 "nbformat": 4,
 "nbformat_minor": 4
}
